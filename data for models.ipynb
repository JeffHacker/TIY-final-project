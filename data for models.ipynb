{
 "cells": [
  {
   "cell_type": "code",
   "execution_count": 4,
   "metadata": {
    "collapsed": false
   },
   "outputs": [],
   "source": [
    "import pandas as pd\n",
    "from pandas import concat\n",
    "import matplotlib.pyplot as plt\n",
    "%matplotlib inline"
   ]
  },
  {
   "cell_type": "code",
   "execution_count": 5,
   "metadata": {
    "collapsed": false
   },
   "outputs": [
    {
     "data": {
      "text/html": [
       "<div>\n",
       "<table border=\"1\" class=\"dataframe\">\n",
       "  <thead>\n",
       "    <tr style=\"text-align: right;\">\n",
       "      <th></th>\n",
       "      <th>ticket</th>\n",
       "      <th>symbol</th>\n",
       "      <th>volume</th>\n",
       "      <th>open_date</th>\n",
       "      <th>close_date</th>\n",
       "      <th>sold</th>\n",
       "      <th>bought</th>\n",
       "      <th>direction</th>\n",
       "      <th>gross_pl</th>\n",
       "      <th>comm</th>\n",
       "      <th>dividends</th>\n",
       "      <th>rollover</th>\n",
       "      <th>adj</th>\n",
       "      <th>net_pl</th>\n",
       "      <th>buy_condition</th>\n",
       "      <th>sell_condition</th>\n",
       "      <th>created_by</th>\n",
       "    </tr>\n",
       "  </thead>\n",
       "  <tbody>\n",
       "    <tr>\n",
       "      <th>0</th>\n",
       "      <td>11976707</td>\n",
       "      <td>EUR/USD</td>\n",
       "      <td>10000</td>\n",
       "      <td>2012-11-14 03:47:00</td>\n",
       "      <td>2012-11-14 04:45:00</td>\n",
       "      <td>1.27355</td>\n",
       "      <td>1.27507</td>\n",
       "      <td>Short</td>\n",
       "      <td>-15.2</td>\n",
       "      <td>0</td>\n",
       "      <td>0</td>\n",
       "      <td>0</td>\n",
       "      <td>0</td>\n",
       "      <td>-15.2</td>\n",
       "      <td>LE</td>\n",
       "      <td>SE</td>\n",
       "      <td>2997583908</td>\n",
       "    </tr>\n",
       "  </tbody>\n",
       "</table>\n",
       "</div>"
      ],
      "text/plain": [
       "     ticket   symbol  volume            open_date           close_date  \\\n",
       "0  11976707  EUR/USD   10000  2012-11-14 03:47:00  2012-11-14 04:45:00   \n",
       "\n",
       "      sold   bought direction  gross_pl  comm  dividends  rollover  adj  \\\n",
       "0  1.27355  1.27507     Short     -15.2     0          0         0    0   \n",
       "\n",
       "   net_pl buy_condition sell_condition  created_by  \n",
       "0   -15.2            LE             SE  2997583908  "
      ]
     },
     "execution_count": 5,
     "metadata": {},
     "output_type": "execute_result"
    }
   ],
   "source": [
    "df = pd.read_csv('/Users/jeffreyhacker/Documents/Python/Iron_Yard/trades_for_final_project/fake_closed_trades.csv')\n",
    "df.head(1)"
   ]
  },
  {
   "cell_type": "code",
   "execution_count": null,
   "metadata": {
    "collapsed": true
   },
   "outputs": [],
   "source": []
  },
  {
   "cell_type": "code",
   "execution_count": 6,
   "metadata": {
    "collapsed": false
   },
   "outputs": [
    {
     "data": {
      "text/plain": [
       "<matplotlib.axes._subplots.AxesSubplot at 0x11139bf60>"
      ]
     },
     "execution_count": 6,
     "metadata": {},
     "output_type": "execute_result"
    },
    {
     "data": {
      "image/png": "[encoded data removed]",
      "text/plain": [
       "<matplotlib.figure.Figure at 0x1113b6550>"
      ]
     },
     "metadata": {},
     "output_type": "display_data"
    }
   ],
   "source": [
    "#PL by session long/short\n",
    "df['hour'] = pd.DatetimeIndex(df['open_date']).hour\n",
    "def create_session_range(hour):\n",
    "    if 3 <= hour < 8:\n",
    "        return \"Eur\"\n",
    "    elif 8 <= hour < 17:\n",
    "        return \"US\"\n",
    "    else:\n",
    "        return \"Asia\"\n",
    "    \n",
    "df[\"session\"] = df[\"hour\"].map(create_session_range)\n",
    "pivoted_df = pd.pivot_table(df, index=[\"session\", \"direction\"], values=[\"gross_pl\"])\n",
    "pivoted_df.plot(kind=\"bar\")"
   ]
  },
  {
   "cell_type": "code",
   "execution_count": 7,
   "metadata": {
    "collapsed": false
   },
   "outputs": [
    {
     "data": {
      "text/html": [
       "<div>\n",
       "<table border=\"1\" class=\"dataframe\">\n",
       "  <thead>\n",
       "    <tr style=\"text-align: right;\">\n",
       "      <th></th>\n",
       "      <th></th>\n",
       "      <th>gross_pl</th>\n",
       "    </tr>\n",
       "    <tr>\n",
       "      <th>session</th>\n",
       "      <th>direction</th>\n",
       "      <th></th>\n",
       "    </tr>\n",
       "  </thead>\n",
       "  <tbody>\n",
       "    <tr>\n",
       "      <th rowspan=\"2\" valign=\"top\">Asia</th>\n",
       "      <th>Long</th>\n",
       "      <td>1.518627</td>\n",
       "    </tr>\n",
       "    <tr>\n",
       "      <th>Short</th>\n",
       "      <td>-0.243924</td>\n",
       "    </tr>\n",
       "    <tr>\n",
       "      <th rowspan=\"2\" valign=\"top\">Eur</th>\n",
       "      <th>Long</th>\n",
       "      <td>-0.353269</td>\n",
       "    </tr>\n",
       "    <tr>\n",
       "      <th>Short</th>\n",
       "      <td>-1.987778</td>\n",
       "    </tr>\n",
       "    <tr>\n",
       "      <th rowspan=\"2\" valign=\"top\">US</th>\n",
       "      <th>Long</th>\n",
       "      <td>-2.502500</td>\n",
       "    </tr>\n",
       "    <tr>\n",
       "      <th>Short</th>\n",
       "      <td>-2.291089</td>\n",
       "    </tr>\n",
       "  </tbody>\n",
       "</table>\n",
       "</div>"
      ],
      "text/plain": [
       "                   gross_pl\n",
       "session direction          \n",
       "Asia    Long       1.518627\n",
       "        Short     -0.243924\n",
       "Eur     Long      -0.353269\n",
       "        Short     -1.987778\n",
       "US      Long      -2.502500\n",
       "        Short     -2.291089"
      ]
     },
     "execution_count": 7,
     "metadata": {},
     "output_type": "execute_result"
    }
   ],
   "source": [
    "#PL by session long/short in color - NOT CURRENTLY USING\n",
    "from itertools import cycle, islice\n",
    "df['hour'] = pd.DatetimeIndex(df['open_date']).hour\n",
    "def create_session_range(hour):\n",
    "    if 3 <= hour < 8:\n",
    "        return \"Eur\"\n",
    "    elif 8 <= hour < 17:\n",
    "        return \"US\"\n",
    "    else:\n",
    "        return \"Asia\"\n",
    "    \n",
    "df[\"session\"] = df[\"hour\"].map(create_session_range)\n",
    "pivoted_df = pd.pivot_table(df, index=[\"session\", \"direction\"], values=[\"gross_pl\"])\n",
    "pivoted_df#.plot(kind=\"bar\", color=list(islice(cycle(['b', 'b', 'g', 'g', 'r', 'r']), None, len(pivoted_df))))"
   ]
  },
  {
   "cell_type": "code",
   "execution_count": 8,
   "metadata": {
    "collapsed": false
   },
   "outputs": [
    {
     "data": {
      "image/png": "[encoded data removed]",
      "text/plain": [
       "<matplotlib.figure.Figure at 0x11325e9e8>"
      ]
     },
     "metadata": {},
     "output_type": "display_data"
    }
   ],
   "source": [
    "#PL by session\n",
    "df['hour'] = pd.DatetimeIndex(df['open_date']).hour\n",
    "def create_session_range(hour):\n",
    "    if 3 <= hour < 8:\n",
    "        return \"Eur\"\n",
    "    elif 8 <= hour < 17:\n",
    "        return \"US\"\n",
    "    else:\n",
    "        return \"Asia\"\n",
    "    \n",
    "df[\"session\"] = df[\"hour\"].map(create_session_range)\n",
    "df.head()\n",
    "ave_pl_by_session = df.groupby(df['session']).gross_pl.mean().plot(kind=\"barh\")\n"
   ]
  },
  {
   "cell_type": "code",
   "execution_count": 9,
   "metadata": {
    "collapsed": false
   },
   "outputs": [
    {
     "data": {
      "image/png": "[encoded data removed]",
      "text/plain": [
       "<matplotlib.figure.Figure at 0x10f0fdeb8>"
      ]
     },
     "metadata": {},
     "output_type": "display_data"
    }
   ],
   "source": [
    "#PL by Year\n",
    "df['year'] = pd.DatetimeIndex(df['open_date']).year\n",
    "ave_pl_by_yr = df.groupby(df['year']).gross_pl.mean().plot(kind=\"barh\")"
   ]
  },
  {
   "cell_type": "code",
   "execution_count": 10,
   "metadata": {
    "collapsed": false
   },
   "outputs": [
    {
     "data": {
      "image/png": "[encoded data removed]",
      "text/plain": [
       "<matplotlib.figure.Figure at 0x11305d7f0>"
      ]
     },
     "metadata": {},
     "output_type": "display_data"
    }
   ],
   "source": [
    "#PL by Weekday\n",
    "#df['day'] = pd.DatetimeIndex(df['open_date']).day\n",
    "df['dayofweek'] = pd.DatetimeIndex(df['open_date']).dayofweek\n",
    "ave_pl_by_wkday = df.groupby(df['dayofweek']).gross_pl.mean().plot(kind=\"barh\")"
   ]
  },
  {
   "cell_type": "code",
   "execution_count": 11,
   "metadata": {
    "collapsed": false
   },
   "outputs": [
    {
     "data": {
      "image/png": "[encoded data removed]",
      "text/plain": [
       "<matplotlib.figure.Figure at 0x113551278>"
      ]
     },
     "metadata": {},
     "output_type": "display_data"
    }
   ],
   "source": [
    "#PL by Month\n",
    "df['month'] = pd.DatetimeIndex(df['open_date']).month\n",
    "ave_pl_by_month = df.groupby(df['month']).gross_pl.mean().plot(kind=\"barh\")"
   ]
  },
  {
   "cell_type": "code",
   "execution_count": 12,
   "metadata": {
    "collapsed": false
   },
   "outputs": [
    {
     "data": {
      "image/png": "[encoded data removed]",
      "text/plain": [
       "<matplotlib.figure.Figure at 0x10f1009e8>"
      ]
     },
     "metadata": {},
     "output_type": "display_data"
    }
   ],
   "source": [
    "#PL by Pair\n",
    "ave_pl_by_symbol = df.groupby(['symbol']).gross_pl.mean().plot(kind=\"barh\")"
   ]
  },
  {
   "cell_type": "code",
   "execution_count": 13,
   "metadata": {
    "collapsed": false
   },
   "outputs": [
    {
     "data": {
      "image/png": "[encoded data removed]",
      "text/plain": [
       "<matplotlib.figure.Figure at 0x1136352e8>"
      ]
     },
     "metadata": {},
     "output_type": "display_data"
    }
   ],
   "source": [
    "#PL by Direction\n",
    "ave_pl_by_direction = df.groupby(['direction']).gross_pl.mean().plot(kind=\"barh\")"
   ]
  },
  {
   "cell_type": "code",
   "execution_count": null,
   "metadata": {
    "collapsed": true
   },
   "outputs": [],
   "source": []
  }
 ],
 "metadata": {
  "kernelspec": {
   "display_name": "Python 3",
   "language": "python",
   "name": "python3"
  },
  "language_info": {
   "codemirror_mode": {
    "name": "ipython",
    "version": 3
   },
   "file_extension": ".py",
   "mimetype": "text/x-python",
   "name": "python",
   "nbconvert_exporter": "python",
   "pygments_lexer": "ipython3",
   "version": "3.4.3"
  }
 },
 "nbformat": 4,
 "nbformat_minor": 0
}
